{
  "nbformat": 4,
  "nbformat_minor": 0,
  "metadata": {
    "colab": {
      "provenance": []
    },
    "kernelspec": {
      "name": "python3",
      "display_name": "Python 3"
    },
    "language_info": {
      "name": "python"
    }
  },
  "cells": [
    {
      "cell_type": "code",
      "source": [
        "!pip3 install pytelegrambotapi"
      ],
      "metadata": {
        "id": "4M98ZbJfMlrL",
        "colab": {
          "base_uri": "https://localhost:8080/"
        },
        "outputId": "1f97ca86-b34f-4674-c587-a4e3b4528a87"
      },
      "execution_count": 8,
      "outputs": [
        {
          "output_type": "stream",
          "name": "stdout",
          "text": [
            "Requirement already satisfied: pytelegrambotapi in /usr/local/lib/python3.10/dist-packages (4.13.0)\n",
            "Requirement already satisfied: requests in /usr/local/lib/python3.10/dist-packages (from pytelegrambotapi) (2.31.0)\n",
            "Requirement already satisfied: charset-normalizer<4,>=2 in /usr/local/lib/python3.10/dist-packages (from requests->pytelegrambotapi) (3.2.0)\n",
            "Requirement already satisfied: idna<4,>=2.5 in /usr/local/lib/python3.10/dist-packages (from requests->pytelegrambotapi) (3.4)\n",
            "Requirement already satisfied: urllib3<3,>=1.21.1 in /usr/local/lib/python3.10/dist-packages (from requests->pytelegrambotapi) (2.0.4)\n",
            "Requirement already satisfied: certifi>=2017.4.17 in /usr/local/lib/python3.10/dist-packages (from requests->pytelegrambotapi) (2023.7.22)\n"
          ]
        }
      ]
    },
    {
      "cell_type": "code",
      "source": [
        "import telebot\n",
        "from telebot import types"
      ],
      "metadata": {
        "id": "UsgNAVs1SPYY"
      },
      "execution_count": 9,
      "outputs": []
    },
    {
      "cell_type": "code",
      "execution_count": 10,
      "metadata": {
        "id": "W0QuRQkfMHtN"
      },
      "outputs": [],
      "source": [
        "token = '6485464249:AAFogogiykRxigsXkx-l6uaFi9xQ5Ui7YwM'                                                                      # Personal token\n",
        "bot = telebot.TeleBot(token)\n",
        "\n",
        "# /start\n",
        "@bot.message_handler(commands=['start'])\n",
        "def start(message):\n",
        "    markup = types.ReplyKeyboardMarkup(resize_keyboard=True)\n",
        "    btn = types.KeyboardButton(\"Главное меню\")\n",
        "    markup.add(btn)\n",
        "    bot.send_message(message.from_user.id, \"👋 Вас приветствует бот для того, чтобы стать добрее =)\", reply_markup=markup)\n",
        "\n",
        "# /help\n",
        "@bot.message_handler(commands=['help'])\n",
        "def help(message):\n",
        "    markup = types.ReplyKeyboardMarkup(resize_keyboard=True)\n",
        "    btn1 = types.KeyboardButton('/start')\n",
        "    markup.add(btn1)\n",
        "    bot.reply_to(message, \"Бот поможет Вам стать добрее.\\nВведите /start чтобы стать добрее.\", reply_markup=markup)\n",
        "\n",
        "# Handler\n",
        "@bot.message_handler(content_types=['text'])\n",
        "def get_text_messages(message):\n",
        "    # #Список запросов\n",
        "    if message.text == 'Главное меню':\n",
        "        markup = types.ReplyKeyboardMarkup(resize_keyboard=True)\n",
        "        btn1 = types.KeyboardButton(\"Пройти обучение\")\n",
        "        btn2 = types.KeyboardButton(\"Получить домашнее задание\")\n",
        "        btn3 = types.KeyboardButton('Отправить домашнее задание')\n",
        "        btn4 = types.KeyboardButton('Главное меню')\n",
        "        markup.add(btn1, btn2, btn3, btn4)\n",
        "        bot.send_message(message.from_user.id, '👀 Выберите вариант из списка.', reply_markup=markup)\n",
        "\n",
        "   # Пройти обучение\n",
        "    elif message.text == 'Пройти обучение':\n",
        "        # keyboard\n",
        "        markup = types.ReplyKeyboardMarkup(resize_keyboard=True)\n",
        "        btn1 = types.KeyboardButton(\"Главное меню\")\n",
        "        markup.add(btn1)\n",
        "        markup = markup\n",
        "        bot.send_message(message.from_user.id,  \"Здесь будет список платформ для обучения\", reply_markup=markup)\n",
        "\n",
        "    elif message.text == 'Получить домашнее задание':\n",
        "        # keyboard\n",
        "        markup = types.ReplyKeyboardMarkup(resize_keyboard=True)\n",
        "        btn1 = types.KeyboardButton(\"Главное меню\")\n",
        "        markup.add(btn1)\n",
        "        markup = markup\n",
        "        # messege\n",
        "        bot.send_message(message.from_user.id,  \"Держи домашку =P\", reply_markup=markup)\n",
        "\n",
        "    elif message.text == 'Отправить домашнее задание':\n",
        "        # keyboard\n",
        "        markup = types.ReplyKeyboardMarkup(resize_keyboard=True)\n",
        "        btn1 = types.KeyboardButton(\"Главное меню\")\n",
        "        markup.add(btn1)\n",
        "        markup = markup\n",
        "        # messege\n",
        "        bot.send_message(message.from_user.id,  \"Гони домашку =P\", reply_markup=markup)\n",
        "\n",
        "    # Anyway\n",
        "    else:\n",
        "        # keyboard\n",
        "        markup = types.ReplyKeyboardMarkup(resize_keyboard=True)\n",
        "        btn = types.KeyboardButton(\"/help\")\n",
        "        markup.add(btn)\n",
        "        # messege\n",
        "        bot.send_message(message.from_user.id, \"Такой команды нет. Введите команду /help.\", reply_markup=markup)\n",
        "\n",
        "# Non-stop polling\n",
        "bot.polling(none_stop=True, interval=0)"
      ]
    }
  ]
}